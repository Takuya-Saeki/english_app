{
 "cells": [
  {
   "cell_type": "markdown",
   "metadata": {},
   "source": [
    "https://www.eigo-duke.com/tango/chu1.html#で、全部表示を押すと全てのhtmlを取得できる。それをファイルにして、ローカルにおく。（スクレイピング時は全て表示されていないので、取得できない）"
   ]
  },
  {
   "cell_type": "code",
   "execution_count": 1,
   "metadata": {},
   "outputs": [],
   "source": [
    "# BeautifulSoupをインポート\n",
    "from bs4 import BeautifulSoup\n",
    "\n",
    "# HTMLファイルを開く\n",
    "with open('a.html', 'r', encoding='utf-8') as file:\n",
    "    # ファイルの内容を読み込む\n",
    "    html_content = file.read()\n",
    "\n",
    "# BeautifulSoupを使用してHTMLを解析する\n",
    "soup = BeautifulSoup(html_content, 'html.parser')\n",
    "\n",
    "# 解析されたHTMLの内容を表示する\n",
    "# print(soup.prettify())\n"
   ]
  },
  {
   "cell_type": "code",
   "execution_count": 2,
   "metadata": {},
   "outputs": [
    {
     "ename": "NameError",
     "evalue": "name 'html' is not defined",
     "output_type": "error",
     "traceback": [
      "\u001b[0;31m---------------------------------------------------------------------------\u001b[0m",
      "\u001b[0;31mNameError\u001b[0m                                 Traceback (most recent call last)",
      "\u001b[1;32m/Users/saekitakuya/Documents/GitHub/english_app/draft_python_logic/a.ipynb セル 3\u001b[0m line \u001b[0;36m2\n\u001b[1;32m      <a href='vscode-notebook-cell:/Users/saekitakuya/Documents/GitHub/english_app/draft_python_logic/a.ipynb#W2sZmlsZQ%3D%3D?line=0'>1</a>\u001b[0m \u001b[39m# lxmlのhtmlパーサーを使用してHTMLを解析\u001b[39;00m\n\u001b[0;32m----> <a href='vscode-notebook-cell:/Users/saekitakuya/Documents/GitHub/english_app/draft_python_logic/a.ipynb#W2sZmlsZQ%3D%3D?line=1'>2</a>\u001b[0m tree \u001b[39m=\u001b[39m html\u001b[39m.\u001b[39mfromstring(html_content)\n\u001b[1;32m      <a href='vscode-notebook-cell:/Users/saekitakuya/Documents/GitHub/english_app/draft_python_logic/a.ipynb#W2sZmlsZQ%3D%3D?line=3'>4</a>\u001b[0m \u001b[39m# 指定されたXPathにマッチする要素を取得\u001b[39;00m\n\u001b[1;32m      <a href='vscode-notebook-cell:/Users/saekitakuya/Documents/GitHub/english_app/draft_python_logic/a.ipynb#W2sZmlsZQ%3D%3D?line=4'>5</a>\u001b[0m \u001b[39m# element = tree.xpath('/html/body/div[3]/div[2]/font/div[2]/table/tbody/tr[2]/td[3]/div')\u001b[39;00m\n\u001b[1;32m      <a href='vscode-notebook-cell:/Users/saekitakuya/Documents/GitHub/english_app/draft_python_logic/a.ipynb#W2sZmlsZQ%3D%3D?line=5'>6</a>\u001b[0m element \u001b[39m=\u001b[39m tree\u001b[39m.\u001b[39mxpath(\u001b[39m'\u001b[39m\u001b[39m/html/body\u001b[39m\u001b[39m'\u001b[39m)\n",
      "\u001b[0;31mNameError\u001b[0m: name 'html' is not defined"
     ]
    }
   ],
   "source": [
    "\n",
    "\n",
    "# lxmlのhtmlパーサーを使用してHTMLを解析\n",
    "tree = html.fromstring(html_content)\n",
    "\n",
    "# 指定されたXPathにマッチする要素を取得\n",
    "# element = tree.xpath('/html/body/div[3]/div[2]/font/div[2]/table/tbody/tr[2]/td[3]/div')\n",
    "element = tree.xpath('/html/body')\n",
    "\n",
    "# 取得した要素の内容を表示\n",
    "# elementはリストなので、最初の要素（存在する場合）を取得\n",
    "if element:\n",
    "    print(element[0].text_content())\n"
   ]
  },
  {
   "cell_type": "code",
   "execution_count": null,
   "metadata": {},
   "outputs": [
    {
     "data": {
      "text/plain": [
       "1"
      ]
     },
     "execution_count": 22,
     "metadata": {},
     "output_type": "execute_result"
    }
   ],
   "source": [
    "len(element)"
   ]
  },
  {
   "cell_type": "markdown",
   "metadata": {},
   "source": [
    "|で区切って、英単語と日本語の対を取得する。htmlのフォルダと、その複数のファイルから、英単語をリストで取得できるように.pyファイルを作る"
   ]
  },
  {
   "cell_type": "code",
   "execution_count": null,
   "metadata": {},
   "outputs": [
    {
     "name": "stdout",
     "output_type": "stream",
     "text": [
      "['a', 'about', 'activity', 'actor', 'after', 'afternoon', 'again', 'against', 'age', 'all', 'along', 'also', 'also', 'always', 'am', 'am', 'an', 'and', 'and', 'and', 'animal', 'another', 'apple', 'April', 'apron', 'are', 'are', 'area', 'around', 'around', 'around', 'around', 'art', 'as', 'at', 'at', 'at', 'ate', 'August', 'autumn', 'away', 'back', 'bad', 'That', 'bag', 'baseball', 'bath', 'be', 'beach', 'bean', 'bear', 'beautiful', 'become', 'bed', 'before', 'behind', 'best', 'do', 'bicycle', 'big', 'bike', 'bird', 'birthday', 'black', 'blue', 'body', 'book', 'bookstore', 'borrow', 'bought', 'box', 'boy', 'bread', 'breakfast', 'brother', 'brown', 'brush', 'build', 'busy', 'but', 'buy', 'by', 'by', 'cake', 'came', 'can', 'cannot', 'cap', 'car', 'care', 'take', 'careful', 'cat', 'chair', 'chicken', 'child', 'children', 'choose', 'city', 'classmate', 'classroom', 'clean', 'clean', 'climb', 'clothes', 'cloudy', 'cold', 'collect', 'come', 'cook', 'cool', 'could', 'country', 'of', 'cousin', 'cow', 'cup', 'cute', 'date', 'day', 'dear', 'December', 'delicious', 'desk', 'dictionary', 'different', 'difficult', 'dinner', 'dish', 'do', 'doctor', 'dog', 'door', 'down', 'down', 'drama', 'draw', 'dream', 'drink', 'drop', 'drum', 'during', 'each', 'each', 'ear', 'early', 'early', 'easily', 'eat', 'egg', 'eight', 'eighteen', 'eighth', 'eighty', 'elementary', 'eleven', 'eleventh', 'end', 'English', 'enjoy', 'evening', 'event', 'every', 'everyone', 'excited', 'exciting', 'excuse', 'eye', 'face', 'fall', 'fall', 'fall', 'family', 'famous', 'farmer', 'fast', 'father', 'favorite', 'February', 'feel', 'felt', 'festival', 'fever', 'fifteen', 'fifth', 'fifty', 'fine', 'first', 'fish', 'five', 'flower', 'food', 'for', 'foreign', 'forget', 'forty', 'forward', 'look', 'four', 'fourteen', 'fourth', 'free', 'Friday', 'friend', 'frog', 'from', 'from', 'front', 'fruit', 'fun', 'funny', 'future', 'garbage', 'gave', 'get', 'get', 'get', 'girl', 'give', 'go', 'good', 'good', 'got', 'grandfather', 'grandmother', 'grape', 'great', 'green', 'guess', 'had', 'hair', 'half', 'hall', 'hand', 'happy', 'hard', 'hard', 'hat', 'have', 'have', 'have', 'he', 'head', 'headache', 'heart', 'help', 'here', 'hers', 'him', 'his', 'his', 'history', 'homework', 'hope', 'horse', 'hospital', 'hot', 'hour', 'house', 'how', 'hundred', 'hungry', 'I', 'ice', 'idea', 'important', 'in', 'information', 'interested', 'interesting', 'is', 'is', 'island', 'it', 'it', 'its', 'January', 'Japan', 'Japanese', 'Japanese', 'job', 'join', 'July', 'jump', 'June', 'junior', 'junior', 'just', 'kind', 'king', 'knee', 'know', 'lake', 'language', 'large', 'last', 'later', 'leave', 'left', 'leg', 'let', 'library', 'life', 'life', 'light', 'like', 'like', 'line', 'listen', 'a', 'live', 'local', 'lonely', 'long', 'look', 'look', 'lose', 'lost', 'luck', 'lunch', 'made', 'make', 'man', 'many', 'map', 'March', 'market', 'math', 'May', 'maybe', 'me', 'me', 'mean', 'meet', 'memory', 'mine', 'minute', 'miss', 'moment', 'Monday', 'money', 'monkey', 'month', 'morning', 'mother', 'mountain', 'mouse', 'mouth', 'movie', 'much', 'museum', 'music', 'musician', 'my', 'name', 'national', 'nature', 'near', 'need', 'need', 'new', 'newspaper', 'next', 'nice', 'night', 'nine', 'nineteen', 'ninety', 'ninth', 'noon', 'nose', 'not', 'notebook', 'nothing', 'November', 'number', 'nurse', 'October', 'office', 'often', 'old', 'on', 'one', 'only', 'open', 'other', 'our', 'ours', 'out', 'outside', 'over', 'p', 'painting', 'parent', 'park', 'pass', 'pencil', 'people', 'perform', 'period', 'pick', 'picture', 'pig', 'place', 'plan', 'play', 'play', 'player', 'pleasure', 'police', 'poor', 'popular', 'practice', 'practice', 'problem', 'purple', 'put', 'queen', 'question', 'quickly', 'quiet', 'rabbit', 'rainy', 'read', 'reading', 'really', 'red', 'rest', 'rice', 'rich', 'ride', 'right', 'right', 'river', 'role', 'room', 'round', 'ruler', 'run', 'sad', 'said', 'salad', 'Saturday', 'saw', 'say', 'school', 'science', 'scientist', 'sea', 'season', 'second', 'see', 'see', 'see', 'sell', 'September', 'seven', 'seventeen', 'seventy', 'she', 'sheep', 'ship', 'shoe', 'shop', 'shopping', 'short', 'shoulder', 'show', 'shy', 'sick', 'sing', 'singer', 'sister', 'sit', 'six', 'sixteen', 'sixth', 'sixty', 'sleep', 'small', 'smile', 'snake', 'snow', 'snowy', 'some', 'something', 'sometimes', 'song', 'soon', 'sound', 'soup', 'speak', 'special', 'speech', 'spell', 'spend', 'spring', 'stand', 'star', 'station', 'stay', 'still', 'stop', 'straight', 'street', 'strong', 'student', 'study', 'subject', 'subway', 'summer', 'Sunday', 'sunny', 'supermarket', 'sure', 'sure', 'surprise', 'sweet', 'swim', 'swimming', 'table', 'take', 'take', 'talk', 'teach', 'teacher', 'telephone', 'tell', 'temple', 'ten', 'tenth', 'textbook', 'thank', 'that', 'that', 'the', 'theater', 'their', 'theirs', 'them', 'there', 'these', 'they', 'thing', 'think', 'third', 'thirteen', 'thirty', 'this', 'this', 'those', 'thousand', 'three', 'Thursday', 'tiger', 'time', 'tired', 'to', 'today', 'together', 'told', 'tomorrow', 'too', 'too', 'took', 'tooth', 'touch', 'towel', 'tower', 'town', 'traditional', 'train', 'trash', 'travel', 'tree', 'trip', 'try', 'Tuesday', 'turn', 'turn', 'twelfth', 'twelve', 'twentieth', 'twenty', 'two', 'umbrella', 'under', 'understand', 'up', 'work', 'so', 'use', 'want', 'very', 'learn', 'letter', 'yesterday', 'usually', 'where', 'diary', 'floor', 'wait', 'west', 'arrive', 'already', 'slowly', 'yet', 'warm', 'stamp', 'plane', 'doll', 'uncle', 'aunt', 'clerk', 'church', 'village', 'honest', 'east', 'south', 'north', 'hat', 'ear', 'people', 'king', 'talk', 'art', 'question', 'each', 'think', 'sit', 'see', 'tea', 'ice', 'take', 'take', 'tell', 'well', 'important', 'teach', 'sea', 'grandfather', 'language', 'listen', 'join', 'difficult', 'eye', 'understand', 'interesting', 'word', 'hope', 'mountain', 'practice', 'mean', 'sure', 'set', 'popular', 'market', 'foot', 'animal', 'leg', 'child', 'history', 'spend', 'become', 'useful', 'tired', 'lake', 'river', 'fun', 'date', 'forget', 'climb', 'feel', 'throw', 'fall', 'museum', 'dictionary', 'nose', 'dish', 'vegetable', 'tooth', 'vacation', 'math', 'grandmother', 'eraser', 'sleep', 'draw', 'worry', 'happen', 'borrow', 'bring', 'farm', 'heart', 'water', 'island', 'hundred', 'mouth', 'bath', 'police', 'thousand', 'textbook', 'horse', 'roof', 'pond', 'nature', 'beef', 'rabbit', 'shoulder', 'pig', 'bear', 'farmer', 'excuse', 'pick', 'brown', 'rainy', 'quiet', 'cloudy', 'busy', 'honest', 'poor', 'hungry', 'fine', 'south', 'north', 'about', 'be', 'abroad', 'from', 'absent', 'according', 'across', 'action', 'add', 'advice', 'advise', 'afraid', 'be', 'after', 'after', 'after', 'age', 'ago', 'air', 'airplane', 'airport', 'alive', 'all', 'alone', 'among', 'ancient', 'angle', 'angry', 'another', 'answer', 'apologize', 'appear', 'are', 'arm', 'arrive', 'arrive', 'article', 'as', 'as', 'ask', 'aunt', 'away', 'baby', 'barrier', 'be', 'beauty', 'because', 'because', 'beer', 'before', 'before', 'began', 'begin', 'begin', 'believe', 'beside', 'best', 'better', 'between', 'bill', 'bored', 'both', 'bridge', 'bright', 'build', 'building', 'built', 'burn', 'business', 'by', 'by', 'by', 'little', 'Bye', 'call', 'call', 'call', 'can', 'candle', 'capital', 'care', 'career', 'carefully', 'carpet', 'carry', 'case', 'catch', 'century', 'certainly', 'chain', 'change', 'change', 'change', 'check', 'check', 'childhood', 'Chinese', 'circle', 'citizen', 'clearly', 'clerk', 'clever', 'close', 'cloth', 'cloud', 'coin', 'college', 'come', 'come', 'comedy', 'common', 'communicate', 'company', 'conference', 'connect', 'contact', 'content', 'continue', 'convenience', 'corner', 'Could', 'couple', 'create', 'cry', 'cultural', 'culture', 'customer', 'cut', 'damage', 'decide', 'decrease', 'deep', 'delivery', 'develop', 'die', 'different', 'dinosaur', 'directly', 'disabled', 'disappear', 'discover', 'dislike', 'do', 'drive', 'dry', 'early', 'earn', 'Earth', 'east', 'easy', 'effectively', 'effort', 'elderly', 'end', 'enough', 'enter', 'envelope', 'especially', 'even', 'eventually', 'everything', 'everywhere', 'example', 'for', 'exhibition', 'experience', 'experience', 'explain', 'face', 'facility', 'factory', 'fail', 'far', 'ask', 'feature', 'feedback', 'feel', 'few', 'a', 'fiction', 'find', 'finger', 'finish', 'fire', 'flour', 'fly', 'follow', 'fool', 'foolish', 'for', 'forest', 'fossil', 'found', 'found', 'free', 'freedom', 'front', 'in', 'full', 'in', 'future', 'in', 'gather', 'general', 'gift', 'glacier', 'glad', 'be', 'go', 'go', 'grand', 'graph', 'grass', 'great', 'ground', 'grow', 'guest', 'guide', 'gun', 'half', 'happiness', 'has', 'have', 'don', 'health', 'hear', 'hear', 'heard', 'heavy', 'held', 'helpful', 'heritage', 'herself', 'hill', 'himself', 'hobby', 'hold', 'hold', 'hole', 'holiday', 'horror', 'host', 'hour', 'How', 'how', 'How', 'however', 'human', 'hunt', 'hunting', 'hurry', 'hurt', 'husband', 'if', 'ill', 'imagine', 'improve', 'improve', 'influence', 'inside', 'be', 'into', 'introduce', 'invention', 'invite', 'keep', 'kept', 'key', 'kill', 'kind', 'kind', 'kindliness', 'knew', 'knife', 'knowledge', 'land', 'last', 'laugh', 'law', 'leaf', 'learn', 'left', 'lend', 'lesson', 'letter', 'letter', 'lie', 'life', 'light', 'light', 'line', 'live', 'long', 'long', 'take', 'lose', 'loud', 'low', 'luggage', 'machine', 'magazine', 'may', 'may', 'mayor', 'meaning', 'measure', 'meat', 'medicine', 'medium', 'middle', 'in', 'million', 'mirror', 'miss', 'mist', 'mistake', 'misunderstand', 'moon', 'more', 'more', 'moreover', 'most', 'move', 'much', 'must', 'must', 'myself', 'natural', 'near', 'necessary', 'neck', 'neighbor', 'nest', 'never', 'at', 'noise', 'for', 'of', 'oil', 'old', 'old', 'on', 'once', 'for', 'operation', 'originally', 'other', 'work', 'outside', 'over', 'over', 'all', 'overseas', 'own', 'paid', 'paint', 'paper', 'part', 'pass', 'past', 'pay', 'peace', 'perfect', 'person', 'photograph', 'piece', 'plan', 'planet', 'plant', 'plate', 'playful', 'pork', 'port', 'precious', 'preserve', 'price', 'produce', 'product', 'professor', 'progress', 'pull', 'push', 'put', 'rain', 'rat', 'raw', 'ready', 'realize', 'reason', 'recognize', 'relationship', 'remember', 'remind', 'remove', 'reply', 'research', 'research', 'reservation', 'rest', 'result', 'as', 'return', 'ride', 'right', 'right', 'ring', 'rise', 'road', 'rock', 'rode', 'row', 'rule', 'sacred', 'sailor', 'for', 'salt', 'same', 'save', 'say', 'scary', 'second', 'seem', 'select', 'selection', 'send', 'sense', 'sent', 'sentence', 'serious', 'severe', 'shadow', 'shape', 'share', 'shop', 'should', 'shout', 'show', 'side', 'sight', 'similar', 'sink', 'skill', 'sky', 'slowly', 'smile', 'with', 'snow', 'society', 'soft', 'sometime', 'sorry', 'specific', 'spice', 'spoke', 'spread', 'spread', 'spring', 'standard', 'stay', 'stick', 'stone', 'story', 'strange', 'strike', 'success', 'such', 'sugar', 'sun', 'surprised', 'tall', 'taught', 'technology', 'than', 'these', 'thick', 'tiny', 'tourist', 'tradition', 'translate', 'translation', 'turn', 'twice', 'uncle', 'understood', 'unique', 'university', 'usual', 'various', 'wake', 'wake', 'war', 'warm', 'watch', 'wave', 'way', 'weak', 'wear', 'weigh', 'weight', 'do', 'well', 'west', 'when', 'which', 'wide', 'wife', 'wild', 'will', 'wind', 'wisdom', 'wish', 'with', 'woke', 'wonder', 'wonder', 'wood', 'work', 'world', 'writer', 'wrote', 'young', 'a', 'above', 'accept', 'accident', 'actually', 'address', 'affect', 'after', 'agree', 'agree', 'ahead', 'all', 'almost', 'already', 'although', 'amaze', 'amazing', 'amount', 'angry', 'announce', 'announcement', 'any', 'any', 'apply', 'arm', 'army', 'around', 'arrest', 'arrow', 'artistic', 'ashamed', 'at', 'attend', 'audience', 'awake', 'awesome', 'back', 'bake', 'ban', 'barber', 'battery', 'be', 'be', 'be', 'be', 'be', 'become', 'beef', 'begin', 'beginner', 'beginning', 'behavior', 'believe', 'belong', 'below', 'besides', 'beyond', 'billion', 'bit', 'blood', 'blow', 'boil', 'bomb', 'border', 'born', 'bother', 'bowl', 'brain', 'branch', 'break', 'breed', 'bright', 'brush', 'building', 'burden', 'burn', 'calligraphy', 'calm', 'cancer', 'capture', 'carbon', 'case', 'case', 'central', 'certain', 'change', 'charge', 'cheap', 'check', 'chemical', 'China', 'Chinese', 'choose', 'circle', 'class', 'clean', 'climate', 'close', 'cloth', 'clothes', 'coal', 'college', 'colony', 'colorful', 'condition', 'connect', 'consumer', 'contact', 'continue', 'control', 'convenient', 'corner', 'could', 'countryside', 'courage', 'course', 'cover', 'crazy', 'creative', 'cross', 'cry', 'curious', 'custom', 'custom', 'cut', 'daily', 'dam', 'damage', 'dangerous', 'daughter', 'dead', 'death', 'debate', 'decide', 'decision', 'definitely', 'depend', 'depend', 'desert', 'design', 'destroy', 'development', 'device', 'die', 'die', 'difference', 'disagree', 'disaster', 'discover', 'discrimination', 'discuss', 'discussion', 'disease', 'domestic', 'donate', 'dot', 'drive', 'driver', 'drop', 'drop', 'drove', 'earthquake', 'eat', 'ecosystem', 'effective', 'electricity', 'electronic', 'electronic', 'else', 'emergency', 'employee', 'encourage', 'encourage', 'endangered', 'ending', 'enemy', 'engineer', 'environment', 'era', 'establish', 'evacuation', 'evacuation', 'even', 'event', 'ever', 'every', 'every', 'exam', 'exception', 'exchange', 'exercise', 'expensive', 'extend', 'extinction', 'extinguisher', 'fact', 'fall', 'fantastic', 'farmer', 'fast', 'fat', 'feather', 'feel', 'fence', 'fight', 'fill', 'film', 'final', 'finally', 'fire', 'fire', 'first', 'flat', 'flight', 'fly', 'focus', 'fold', 'follower', 'fond', 'foolish', 'forth', 'fortunately', 'fossil', 'found', 'fox', 'freely', 'fresh', 'friendly', 'fun', 'functional', 'garage', 'gas', 'gentle', 'gently', 'get', 'get', 'get', 'given', 'the', 'go', 'go', 'go', 'go', 'god', 'government', 'grade', 'graduate', 'graduation', 'grew', 'grow', 'growth', 'guide', 'habit', 'hand', 'hand', 'handle', 'happily', 'health', 'healthy', 'hear', 'heard', 'heat', 'heaven', 'held', 'help', 'high', 'himself', 'hit', 'holy', 'honey', 'hope', 'hopeful', 'horizon', 'How', 'How', 'human', 'human', 'human', 'if', 'illegal', 'illiterate', 'image', 'imagine', 'import', 'in', 'in', 'in', 'in', 'include', 'increase', 'indeed', 'independence', 'injure', 'inner', 'instead', 'instead', 'instruction', 'interdependent', 'interest', 'into', 'invent', 'inventor', 'iron', 'jewel', 'joy', 'judge', 'just', 'keep', 'kit', 'lamp', 'large', 'last', 'latest', 'law', 'lawyer', 'lazy', 'lead', 'leave', 'legacy', 'less', 'let', 'limited', 'line', 'link', 'lip', 'list', 'little', 'little', 'long', 'loss', 'lost', 'lost', 'lovely', 'lucky', 'lullaby', 'made', 'magazine', 'make', 'make', 'many', 'mark', 'marry', 'match', 'matter', 'meant', 'merchant', 'metal', 'mind', 'mini', 'mining', 'mirror', 'mix', 'modern', 'monthly', 'more', 'more', 'more', 'most', 'move', 'movement', 'musical', 'negative', 'neither', 'net', 'never', 'newspaper', 'violence', 'noisy', 'not', 'not', 'not', 'note', 'nuclear', 'nuclear', 'number', 'ocean', 'oil', 'on', 'one', 'opinion', 'or', 'or', 'order', 'ordinary', 'out', 'outside', 'over', 'overseas', 'pain', 'painter', 'pair', 'pal', 'palace', 'pale', 'paper', 'parking', 'pass', 'peace', 'peaceful', 'pencil', 'perhaps', 'period', 'person', 'personal', 'plastic', 'please', 'pleased', 'poem', 'poet', 'point', 'point', 'police', 'policeman', 'populous', 'pork', 'positive', 'possible', 'prepared', 'president', 'pretty', 'prince', 'print', 'prize', 'progress', 'promise', 'protect', 'protest', 'protest', 'pursue', 'quarter', 'quick', 'quietly', 'quite', 'race', 'radiation', 'railway', 'rain', 'rainwater', 'rainy', 'raise', 'rapidly', 'reach', 'real', 'receive', 'recently', 'relate', 'relate', 'relation', 'relatively', 'release', 'renewable', 'report', 'researcher', 'resident', 'resource', 'respect', 'rest', 'rhyme', 'rhythm', 'right', 'road', 'root', 'rose', 'round', 'row', 'rule', 'run', 'run', 'run', 'rush', 'safely', 'said', 'salt', 'same', 'satisfy', 'save', 'scared', 'seasonal', 'second', 'secret', 'seem', 'senior', 'sent', 'shade', 'shake', 'shaking', 'shelter', 'shirt', 'shoot', 'side', 'sidewalk', 'sign', 'signal', 'silent', 'silk', 'silver', 'simple', 'since', 'site', 'sky', 'sleep', 'sleepy', 'smell', 'smoke', 'so', 'so', 'soil', 'sold', 'solve', 'somehow', 'someone', 'somewhere', 'son', 'sort', 'species', 'spelling', 'spread', 'square', 'stand', 'stand', 'stationery', 'statue', 'steam', 'step', 'stop', 'store', 'stranger', 'strict', 'study', 'stylish', 'succeed', 'successful', 'sunset', 'sunshine', 'super', 'supply', 'support', 'surely', 'surprisingly', 'surround', 'survey', 'survival', 'survive', 'sustainable', 'sweet', 'swimming', 'syllable', 'tax', 'tear', 'tell', 'terrible', 'That', 'themselves', 'then', 'then', 'third', 'third', 'this', 'those', 'though', 'thought', 'thousands', 'through', 'tie', 'tightly', 'title', 'tonight', 'too', 'tough', 'toy', 'trade', 'transport', 'traveler', 'treasure', 'trust', 'uncomfortable', 'unfair', 'unhappy', 'uniform', 'universe', 'until', 'unused', 'up', 'use', 'valley', 'violence', 'visitor', 'war', 'waste', 'weak', 'weapon', 'wear', 'weekly', 'well', 'wet', 'what', 'while', 'whole', 'wide', 'wind', 'wind', 'winner', 'wish', 'won', 'worth', 'would', 'would', 'wrap', 'wrong', 'year', 'yen', 'yet', 'yet', 'youth', 'zone', 'can', 'when', 'but', 'after', 'because', 'play', 'answer', 'stay', 'even', 'hard', 'hall', 'still', 'introduce', 'zoo', 'problem', 'realize', 'carefully', 'explain', 'during', 'away', 'weather', 'meaning', 'lie', 'between', 'once', 'another', 'host', 'wave', 'reason', 'raw', 'international', 'natural', 'national', 'however', 'gym', 'cousin', 'wonder', 'necessary', 'fourteenth', 'excited', 'delicious', 'quickly', 'abroad', 'entrance', 'elephant', 'umbrella', 'frog', 'theater', 'husband', 'scientist', 'century', 'crowd', 'queen', 'neighbor', 'midnight', 'reply', 'plant', 'sentence', 'plate', 'hurt', 'blind', 'brave', 'funny', 'tiny', 'common', 'everywhere', 'certainly', 'suddenly', 'anyway', 'probably', 'twice', 'probably', 'twice']\n"
     ]
    }
   ],
   "source": [
    "import re\n",
    "\n",
    "# 解析する文字列\n",
    "# text = \"|a．m．午前2|aboutについて、に関する3|activity活動4|actor俳優5|\"\n",
    "\n",
    "# '|'で分割して各セグメントを処理\n",
    "words = re.findall(r'\\|([a-zA-Z]+)', element[0].text_content())\n",
    "\n",
    "# 結果の表示\n",
    "print(words)\n"
   ]
  },
  {
   "cell_type": "code",
   "execution_count": null,
   "metadata": {},
   "outputs": [
    {
     "data": {
      "text/plain": [
       "1933"
      ]
     },
     "execution_count": 24,
     "metadata": {},
     "output_type": "execute_result"
    }
   ],
   "source": [
    "len(words)\n"
   ]
  },
  {
   "cell_type": "code",
   "execution_count": null,
   "metadata": {},
   "outputs": [],
   "source": [
    "import csv\n",
    "# CSVファイルに書き出す\n",
    "with open('words.csv', 'w', newline='', encoding='utf-8') as file:\n",
    "    writer = csv.writer(file)\n",
    "    for word in words:\n",
    "        writer.writerow([word])"
   ]
  },
  {
   "cell_type": "code",
   "execution_count": null,
   "metadata": {},
   "outputs": [],
   "source": []
  }
 ],
 "metadata": {
  "kernelspec": {
   "display_name": "Python 3",
   "language": "python",
   "name": "python3"
  },
  "language_info": {
   "codemirror_mode": {
    "name": "ipython",
    "version": 3
   },
   "file_extension": ".py",
   "mimetype": "text/x-python",
   "name": "python",
   "nbconvert_exporter": "python",
   "pygments_lexer": "ipython3",
   "version": "3.11.6"
  }
 },
 "nbformat": 4,
 "nbformat_minor": 2
}
